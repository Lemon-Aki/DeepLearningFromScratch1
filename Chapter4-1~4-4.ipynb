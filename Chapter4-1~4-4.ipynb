{
  "nbformat": 4,
  "nbformat_minor": 0,
  "metadata": {
    "colab": {
      "name": "Chapter4-1~4-4.ipynb",
      "provenance": [],
      "collapsed_sections": [],
      "authorship_tag": "ABX9TyOIP2khWVVIq133Da9pf8sT",
      "include_colab_link": true
    },
    "kernelspec": {
      "name": "python3",
      "display_name": "Python 3"
    },
    "language_info": {
      "name": "python"
    }
  },
  "cells": [
    {
      "cell_type": "markdown",
      "metadata": {
        "id": "view-in-github",
        "colab_type": "text"
      },
      "source": [
        "<a href=\"https://colab.research.google.com/github/Lemon-Aki/DeepLearningFromScratch1/blob/main/Chapter4-1~4-4.ipynb\" target=\"_parent\"><img src=\"https://colab.research.google.com/assets/colab-badge.svg\" alt=\"Open In Colab\"/></a>"
      ]
    },
    {
      "cell_type": "code",
      "metadata": {
        "id": "7jSqdLoyA_dw"
      },
      "source": [
        "#신경망 학습 : 훈련 데이터로부터 가중치 매개변수의 최적겂을 자동으로 획득하는 것\n",
        "#손실함수 : 손실 함수의 결과값을 가장 작게 만드는 가중치 매개변수를 찾는것이 학습의 목표, 일반적으로 평균 제곱 오차, 교차 엔트로피 오차 사용\n",
        "#특징(feature) : 입력 데이터에서 본질적인 데이터를 정확하게 추출할 수 있도록 설계 된 변환기, \n",
        "#이미지의 특징은 보통 벡터로 기술, 컴퓨터 비전 분야에는 SIFT, SURF, HOG 등 특징을 많이 사용\n",
        "#딥러닝(신경망) : 종단간 기계학습, 사람의 개입 없이 처음부터 끝까지 이미지에 포함된 특징을 기계가 스스로 학습 함\n",
        "#훈련 데이터와 신경데이터를 나누는 이유 : 범용 능력을 평가하기 위해, 훈련 데이터에 과대적합(오버피팅)되는 것을 방지하기 위해\n"
      ],
      "execution_count": 1,
      "outputs": []
    },
    {
      "cell_type": "code",
      "metadata": {
        "colab": {
          "base_uri": "https://localhost:8080/"
        },
        "id": "B8bXO3w6CPZo",
        "outputId": "3da880aa-241d-40c1-c272-c3872fd84478"
      },
      "source": [
        "#평균제곱 오차 : 오차가 더 작은 쪽이 정답에 더 가까움\n",
        "import numpy as np\n",
        "\n",
        "def mean_squared_error(y, t):\n",
        "  return 0.5 * np.sum((y-t)**2)\n",
        "\n",
        "t = [0,0,1,0,0,0,0,0,0,0]\n",
        "\n",
        "y = [0.1, 0.05, 0.6, 0.0, 0.05, 0.1, 0.0, 0.1, 0.0, 0.0]\n",
        "y2 = [0.1, 0.05, 0.1, 0.0, 0.05, 0.1, 0.0, 0.6, 0.0, 0.0]\n",
        "print(mean_squared_error(np.array(y), np.array(t)))\n",
        "print(mean_squared_error(np.array(y2), np.array(t)))"
      ],
      "execution_count": 2,
      "outputs": [
        {
          "output_type": "stream",
          "text": [
            "0.09750000000000003\n",
            "0.5975\n"
          ],
          "name": "stdout"
        }
      ]
    },
    {
      "cell_type": "code",
      "metadata": {
        "colab": {
          "base_uri": "https://localhost:8080/"
        },
        "id": "0UZwNnzGDJ8U",
        "outputId": "b4dfa25a-1bf2-480d-b928-4d980d1273d0"
      },
      "source": [
        "#교차 엔트로피 오차 : 정답에 해당하는 인덱스의 원소만 1이고 나머지는 0이기 때문에 정답일 때의 출력이 전체 값을 결정\n",
        "#결과(오차값)가 더 작은 쪽이 정답에 더 가까움\n",
        "def cross_entropy_error(y, t):\n",
        "  delta = 1e-7\n",
        "  return -np.sum(t * np.log(y + delta)) #np.log()내부가 0이되면 마이너스 무한대(-inf)가 되기 때문에 아주 작은 값을 추가\n",
        "\n",
        "print(cross_entropy_error(np.array(y), np.array(t)))\n",
        "print(cross_entropy_error(np.array(y2), np.array(t)))"
      ],
      "execution_count": 3,
      "outputs": [
        {
          "output_type": "stream",
          "text": [
            "0.510825457099338\n",
            "2.302584092994546\n"
          ],
          "name": "stdout"
        }
      ]
    },
    {
      "cell_type": "code",
      "metadata": {
        "colab": {
          "base_uri": "https://localhost:8080/"
        },
        "id": "-PoM15q2FIoT",
        "outputId": "ea7c7c4f-11ea-4579-cb94-6d5743721dcf"
      },
      "source": [
        "# 코랩과 구글드라이드를 연동(인증 필요)\n",
        "#Transport endpoint is not connected 에러시 코랩 재연결\n",
        "from google.colab import drive\n",
        "drive.mount('/gdrive', force_remount=True)\n",
        "%cd /gdrive/MyDrive/DeepLearningFromScratch1/"
      ],
      "execution_count": 4,
      "outputs": [
        {
          "output_type": "stream",
          "text": [
            "Mounted at /gdrive\n",
            "/gdrive/MyDrive/DeepLearningFromScratch1\n"
          ],
          "name": "stdout"
        }
      ]
    },
    {
      "cell_type": "code",
      "metadata": {
        "colab": {
          "base_uri": "https://localhost:8080/"
        },
        "id": "01jEuSr3EtNd",
        "outputId": "9a6ee53c-ef5d-4277-c8fc-108c0ad04063"
      },
      "source": [
        "#미니배치 학습: 훈련데이터가 너무 많을경우, 일부를 추려 전체의 근사치로 이용하는 학습방법\n",
        "#import sys, os\n",
        "#sys.path.append(os.pardir)\n",
        "import numpy as np\n",
        "from dataset.mnist import load_mnist\n",
        "\n",
        "(x_train, t_train), (x_test, t_text) = load_mnist(normalize=True, one_hot_label=True)\n",
        "\n",
        "print(x_train.shape)\n",
        "print(t_train.shape)\n",
        "\n",
        "train_size = x_train.shape[0]\n",
        "batch_size = 10\n",
        "batch_mask = np.random.choice(train_size, batch_size)\n",
        "x_batch = x_train[batch_mask]\n",
        "t_batch = t_train[batch_mask]\n",
        "\n",
        "def cross_entropy_error2(y, t):\n",
        "  #y배열이 1차원일경우 2차원으로 변형\n",
        "  if y.ndim == 1:\n",
        "    t = t.reshape(1, t.size) # 1-D 로 변환, t.size는 t의 요소 갯수를 의미\n",
        "    y = y.reshape(1, y.size) # 1-D 로 변환\n",
        "\n",
        "  print(t.shape)\n",
        "  print(y.shape)\n",
        "\n",
        "  batch_size = y.shape[0]\n",
        "  #return -np.sum(t * np.log(y + 1e-7)) / batch_size   # 원핫인코딩일 경우 t가 0일때는 교차 엔트로피 오차도 0이므로 무시해도 좋다는 것이 핵심\n",
        "  #return -np.sum( np.log( y[np.arange(batch_size), t] )) / batch_size   # 원핫인코딩이 아닐경우\n",
        "\n",
        "print(cross_entropy_error2(x_batch, t_batch))"
      ],
      "execution_count": 5,
      "outputs": [
        {
          "output_type": "stream",
          "text": [
            "(60000, 784)\n",
            "(60000, 10)\n",
            "(10, 10)\n",
            "(10, 784)\n",
            "None\n"
          ],
          "name": "stdout"
        }
      ]
    },
    {
      "cell_type": "code",
      "metadata": {
        "id": "kSJiJ5XZFwzC"
      },
      "source": [
        "#손실 함수를 사용하는 이유\n",
        "#신경망 학습에서 최적의 매개변수(가중치와 편향)를 탐색할 때 손실 함수의 값을 가능한 한 작게 하는 매개변수를 찾음\n",
        "#이때, 매개변수의 미분(기울기)를 계산하고, 그 미분 값을 단서로 매개변수의 값을 갱신하는 과정을 반복\n",
        "#정확도를 지표로 하면 매개변수의 미분이 대부분의 장소에서 0이 되기 대문에 정확도를 사용하지 않음\n",
        "#시그모이드 함수의 미분은 어느 장소라도 0이 되지 않기 때문에 신경망이 올바르게 학습 가능\n",
        "#미분 나쁜 예\n",
        "#반올림 오차(작은 값이 생략되어 최종 계산 결과에 오차가 생김), h를 무한이 0으로 좁히는 것이 불가능한 오차\n",
        "def numerical_diff(f, x):\n",
        "  h = 10e-50\n",
        "  return(f(x + h) - f(x)) / h"
      ],
      "execution_count": 6,
      "outputs": []
    },
    {
      "cell_type": "code",
      "metadata": {
        "id": "bQmKmlCvQCCN"
      },
      "source": [
        "#개선된 미분\n",
        "def numerical_diff2(f, x):\n",
        "  h = 1e-4 #0.0001\n",
        "  return (f(x+h) - f(x-h)) / (2*h)"
      ],
      "execution_count": 7,
      "outputs": []
    },
    {
      "cell_type": "code",
      "metadata": {
        "colab": {
          "base_uri": "https://localhost:8080/",
          "height": 279
        },
        "id": "SFwItc41QYsy",
        "outputId": "44015f78-199e-422a-f12d-fe99a35d1fb3"
      },
      "source": [
        "#2차함수 그리기\n",
        "def function_1(x):\n",
        "  return 0.01*x**2 + 0.1*x\n",
        "\n",
        "import matplotlib.pyplot as plt\n",
        "\n",
        "x = np.arange(0.0, 20.0, 0.1)\n",
        "y = function_1(x)\n",
        "\n",
        "plt.plot(x,y)\n",
        "plt.xlabel('x')\n",
        "plt.ylabel('f(x)')\n",
        "plt.show()"
      ],
      "execution_count": 8,
      "outputs": [
        {
          "output_type": "display_data",
          "data": {
            "image/png": "[encoded data removed]",
            "text/plain": [
              "<Figure size 432x288 with 1 Axes>"
            ]
          },
          "metadata": {
            "needs_background": "light"
          }
        }
      ]
    },
    {
      "cell_type": "code",
      "metadata": {
        "colab": {
          "base_uri": "https://localhost:8080/"
        },
        "id": "SXI-a6qIQ-Ix",
        "outputId": "d22f27a6-f213-4683-a206-34566aa0a005"
      },
      "source": [
        "#미분 값 출력\n",
        "print(numerical_diff2(function_1, 5))\n",
        "print(numerical_diff2(function_1, 10))"
      ],
      "execution_count": 9,
      "outputs": [
        {
          "output_type": "stream",
          "text": [
            "0.1999999999990898\n",
            "0.2999999999986347\n"
          ],
          "name": "stdout"
        }
      ]
    },
    {
      "cell_type": "code",
      "metadata": {
        "colab": {
          "base_uri": "https://localhost:8080/",
          "height": 297
        },
        "id": "1t_z9gHnRk0Y",
        "outputId": "d5e17357-1e91-43af-f441-96ee886fbf2d"
      },
      "source": [
        "#미분 값을 기울기로 하는 직선 그리기\n",
        "def tangent_line(f, x):           # 접선의 함수를 반환하는 함수\n",
        "    d = numerical_diff2(f, x)        # 수치미분값 ( 접선의 기울기 의미)\n",
        "    print(d)\n",
        "    y = f(x) - d*x                  # 접선의 절편\n",
        "    return lambda t: d*t + y      # 접선의 함수 t 반환\n",
        "     \n",
        "x = np.arange(0.0, 20.0, 0.1)\n",
        "y = function_1(x)\n",
        "plt.xlabel(\"x\")\n",
        "plt.ylabel(\"f(x)\")\n",
        "\n",
        "tf = tangent_line(function_1, 5)    # x = 5 일 때 접선의 함수 생성 \n",
        "y2 = tf(x)                          # x범위 만큼의 접선의 함수 결과값\n",
        "\n",
        "plt.plot(x, y)                      # 함수 f(x)\n",
        "plt.plot(x, y2)                     # 접선\n",
        "plt.show()"
      ],
      "execution_count": 10,
      "outputs": [
        {
          "output_type": "stream",
          "text": [
            "0.1999999999990898\n"
          ],
          "name": "stdout"
        },
        {
          "output_type": "display_data",
          "data": {
            "image/png": "[encoded data removed]",
            "text/plain": [
              "<Figure size 432x288 with 1 Axes>"
            ]
          },
          "metadata": {
            "needs_background": "light"
          }
        }
      ]
    },
    {
      "cell_type": "code",
      "metadata": {
        "colab": {
          "base_uri": "https://localhost:8080/"
        },
        "id": "m3s12eSuR1II",
        "outputId": "6af01b66-1877-48ca-8165-6448d8a3b0c3"
      },
      "source": [
        "#편미분 : 변수가 여러개인 함수에 대한 미분, 목표 변수 하나에 초점을 맞추고 다른 변수는 값을 고정\n",
        "def function_2(x):\n",
        "  return x[0]**2 + x[1]**2\n",
        "  #return np.sum(x**2)\n",
        "\n",
        "def function_tmp1(x0):\n",
        "  return x0*x0 + 4.0**2.0\n",
        "\n",
        "def function_tmp2(x1):\n",
        "  return 3.0**2.0 + x1*x1\n",
        "\n",
        "\n",
        "print(numerical_diff2(function_tmp1, 3.0))\n",
        "print(numerical_diff2(function_tmp2, 4.0))"
      ],
      "execution_count": 11,
      "outputs": [
        {
          "output_type": "stream",
          "text": [
            "6.00000000000378\n",
            "7.999999999999119\n"
          ],
          "name": "stdout"
        }
      ]
    },
    {
      "cell_type": "code",
      "metadata": {
        "colab": {
          "base_uri": "https://localhost:8080/"
        },
        "id": "_HoelScgTPvu",
        "outputId": "1f43dcdf-9c6c-42a6-f599-be5fa986cd09"
      },
      "source": [
        "#기울기 : 모든 변수의 편미분을 벡터로 정리한 것\n",
        "def numerical_gradient(f, x):\n",
        "  h = 1e-4\n",
        "  grad = np.zeros_like(x) #x와 형상이 같고 값이 0인 배열 생성\n",
        "\n",
        "  for idx in range(x.size):\n",
        "    tmp_val = x[idx]\n",
        "    #f(x+h) 계산\n",
        "    x[idx] = tmp_val + h\n",
        "    fxh1 = f(x)\n",
        "\n",
        "    #f(x-h) 계산\n",
        "    x[idx] = tmp_val - h\n",
        "    fxh2 = f(x)\n",
        "\n",
        "    grad[idx] = (fxh1 - fxh2) / (2*h)\n",
        "    x[idx] = tmp_val\n",
        "  \n",
        "  return grad\n",
        "\n",
        "print(numerical_gradient(function_2, np.array([3.0,4.0])))\n",
        "print(numerical_gradient(function_2, np.array([0.0,2.0])))\n",
        "print(numerical_gradient(function_2, np.array([3.0,0.0])))"
      ],
      "execution_count": 12,
      "outputs": [
        {
          "output_type": "stream",
          "text": [
            "[6. 8.]\n",
            "[0. 4.]\n",
            "[6. 0.]\n"
          ],
          "name": "stdout"
        }
      ]
    },
    {
      "cell_type": "code",
      "metadata": {
        "colab": {
          "base_uri": "https://localhost:8080/",
          "height": 301
        },
        "id": "u624UfIHVo-P",
        "outputId": "7eeb392d-2923-420f-9db1-f24b4039cfff"
      },
      "source": [
        "#기울기의 결과에 마이너스를 붙인 벡터 출력\n",
        "#기울기가 가리키는 쪽은 각 장소에서 함수의 출력 값을 가장 크게 줄이는 방향\n",
        "from mpl_toolkits.mplot3d import Axes3D\n",
        "\n",
        "def _numerical_gradient_no_batch(f, x):\n",
        "    h = 1e-4 # 0.0001\n",
        "    grad = np.zeros_like(x) # x와 형상이 같은 배열을 생성\n",
        "    \n",
        "    for idx in range(x.size):\n",
        "        tmp_val = x[idx]\n",
        "        \n",
        "        # f(x+h) 계산\n",
        "        x[idx] = float(tmp_val) + h\n",
        "        fxh1 = f(x)\n",
        "        \n",
        "        # f(x-h) 계산\n",
        "        x[idx] = tmp_val - h \n",
        "        fxh2 = f(x) \n",
        "        \n",
        "        grad[idx] = (fxh1 - fxh2) / (2*h)\n",
        "        x[idx] = tmp_val # 값 복원\n",
        "        \n",
        "    return grad\n",
        "\n",
        "\n",
        "def numerical_gradient2(f, X):\n",
        "    if X.ndim == 1:\n",
        "        return _numerical_gradient_no_batch(f, X)\n",
        "    else:\n",
        "        grad = np.zeros_like(X)\n",
        "        \n",
        "        for idx, x in enumerate(X):\n",
        "            grad[idx] = _numerical_gradient_no_batch(f, x)\n",
        "        \n",
        "        return grad\n",
        "\n",
        "\n",
        "def function_2(x):\n",
        "    if x.ndim == 1:\n",
        "        return np.sum(x**2)\n",
        "    else:\n",
        "        return np.sum(x**2, axis=1)\n",
        "\n",
        "\n",
        "def tangent_line(f, x):\n",
        "    d = numerical_gradient2(f, x)\n",
        "    print(d)\n",
        "    y = f(x) - d*x\n",
        "    return lambda t: d*t + y\n",
        "     \n",
        "if __name__ == '__main__':\n",
        "    x0 = np.arange(-2, 2.5, 0.25)\n",
        "    x1 = np.arange(-2, 2.5, 0.25)\n",
        "    X, Y = np.meshgrid(x0, x1)\n",
        "    \n",
        "    X = X.flatten()\n",
        "    Y = Y.flatten()\n",
        "    \n",
        "    grad = numerical_gradient2(function_2, np.array([X, Y]) )\n",
        "    \n",
        "    plt.figure()\n",
        "    plt.quiver(X, Y, -grad[0], -grad[1],  angles=\"xy\",color=\"#666666\")#,headwidth=10,scale=40,color=\"#444444\")\n",
        "    plt.xlim([-2, 2])\n",
        "    plt.ylim([-2, 2])\n",
        "    plt.xlabel('x0')\n",
        "    plt.ylabel('x1')\n",
        "    plt.grid()\n",
        "    plt.legend()\n",
        "    plt.draw()\n",
        "    plt.show()"
      ],
      "execution_count": 13,
      "outputs": [
        {
          "output_type": "stream",
          "text": [
            "No handles with labels found to put in legend.\n"
          ],
          "name": "stderr"
        },
        {
          "output_type": "display_data",
          "data": {
            "image/png": "[encoded data removed]",
            "text/plain": [
              "<Figure size 432x288 with 1 Axes>"
            ]
          },
          "metadata": {
            "needs_background": "light"
          }
        }
      ]
    },
    {
      "cell_type": "code",
      "metadata": {
        "colab": {
          "base_uri": "https://localhost:8080/"
        },
        "id": "h5LvgfhIW1Wo",
        "outputId": "01d6e3f5-2399-4745-8860-5d6ee6fb778f"
      },
      "source": [
        "#경사법 : 현 위치에서 기울어진 방향으로 일정 거리만큼 이동, 기울기를 구하고, 그 방향으로 나아아기를 반복, 보통 경사하강법을 사용\n",
        "#경사법은 기울기가 0인 장소를 찾지만 반드시 최솟값은 아님, 극솟값, 최솟값, 안장점(보는 방향에따라 극댓값, 극솟값이 되는 점)일수도 있음\n",
        "#학습률 : 한번의 학습으로 얼마만큼 학습해야 할지, 매개변수 값을 얼마나 갱신할지를 정함\n",
        "#하이퍼 파라미터 : 학습률 등 사람이 직접 설정해야 하는 매개변수\n",
        "def gradient_descent(f, init_x, lr=0.01, step_num=100):\n",
        "  x = init_x\n",
        "\n",
        "  for i in range(step_num):\n",
        "    grad = numerical_gradient(f,x)\n",
        "    x -= lr * grad\n",
        "  return x\n",
        "\n",
        "init_x = np.array([-3.0, 4.0])\n",
        "print(gradient_descent(function_2, init_x=init_x, lr=0.1, step_num=100))\n",
        "\n",
        "init_x = np.array([-3.0, 4.0])\n",
        "print(gradient_descent(function_2, init_x=init_x, lr=10.0, step_num=100))\n",
        "\n",
        "init_x = np.array([-3.0, 4.0])\n",
        "print(gradient_descent(function_2, init_x=init_x, lr=1e-10, step_num=100))"
      ],
      "execution_count": 14,
      "outputs": [
        {
          "output_type": "stream",
          "text": [
            "[-6.11110793e-10  8.14814391e-10]\n",
            "[-2.58983747e+13 -1.29524862e+12]\n",
            "[-2.99999994  3.99999992]\n"
          ],
          "name": "stdout"
        }
      ]
    },
    {
      "cell_type": "code",
      "metadata": {
        "colab": {
          "base_uri": "https://localhost:8080/"
        },
        "id": "-CkvUu1taWUc",
        "outputId": "7e0c5100-4097-46cc-e5e6-ab1bc82c8403"
      },
      "source": [
        "#신경망 학습의 기울기 : 가중치 매개변수에 대한 손실함수의 기울기\n",
        "from common.functions import softmax, cross_entropy_error\n",
        "from common.gradient import numerical_gradient\n",
        "\n",
        "#클래스 생성\n",
        "class simpleNet:\n",
        "  def __init__(self):\n",
        "    self.W = np.random.randn(2,3)\n",
        "\n",
        "  #예측수행 메소드\n",
        "  def predict(self, x):\n",
        "    return np.dot(x, self.W)\n",
        "\n",
        "  #손실함수의 값을 구하는 메소드\n",
        "  def loss(self, x, t):\n",
        "    z = self.predict(x)\n",
        "    y = softmax(z)\n",
        "    loss = cross_entropy_error(y, t)\n",
        "\n",
        "    return loss\n",
        "\n",
        "net = simpleNet()\n",
        "print(net.W)\n",
        "\n",
        "x = np.array([0.6, 0.9])\n",
        "p = net.predict(x)\n",
        "print(p)\n",
        "\n",
        "print(np.argmax(p))\n",
        "\n",
        "t=np.array([0,0,1])\n",
        "net.loss(x, t)\n",
        "\n",
        "#간단한 함수는 람다로 표현\n",
        "#def f(W):\n",
        "#  return net.loss(x, t)\n",
        "f = lambda w: net.loss(x,t)\n",
        "\n",
        "dW = numerical_gradient(f, net.W)\n",
        "print(dW)"
      ],
      "execution_count": 34,
      "outputs": [
        {
          "output_type": "stream",
          "text": [
            "[[ 2.08290063e+00  1.65894634e+00  2.36182769e-01]\n",
            " [ 7.66199018e-01 -1.65735970e-03  1.54434965e+00]]\n",
            "[1.9393195  0.99387618 1.53162435]\n",
            "0\n",
            "[[ 0.29215711  0.11350517 -0.40566227]\n",
            " [ 0.43823566  0.17025775 -0.60849341]]\n"
          ],
          "name": "stdout"
        }
      ]
    }
  ]
}