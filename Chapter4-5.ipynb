{
  "nbformat": 4,
  "nbformat_minor": 0,
  "metadata": {
    "colab": {
      "name": "Chapter4-5.ipynb",
      "provenance": [],
      "authorship_tag": "ABX9TyPhBkzJPPl6CaP/3TZkdXqs",
      "include_colab_link": true
    },
    "kernelspec": {
      "name": "python3",
      "display_name": "Python 3"
    },
    "language_info": {
      "name": "python"
    }
  },
  "cells": [
    {
      "cell_type": "markdown",
      "metadata": {
        "id": "view-in-github",
        "colab_type": "text"
      },
      "source": [
        "<a href=\"https://colab.research.google.com/github/Lemon-Aki/DeepLearningFromScratch1/blob/main/Chapter4-5.ipynb\" target=\"_parent\"><img src=\"https://colab.research.google.com/assets/colab-badge.svg\" alt=\"Open In Colab\"/></a>"
      ]
    },
    {
      "cell_type": "code",
      "metadata": {
        "id": "hraF92LefMWn"
      },
      "source": [
        "#신경망 학습 절차\n",
        "#학습 : 신경망에는 적응 가능한 매개변수(가중치와 편향)이 있고, 가중치와 편향을 훈련 데이터에 적응하도록 조정하는 과정\n",
        "#확률적 경사 하강법(Stochastic Gradient Descent, GSD) : 무직위로 선정한 미니배치에 대해 수행하는 경사 하강법\n",
        "#1단계 : 미니배치\n",
        "#훈련 데이터 중 일부 데이터(미니배치)를 무작위로 선정, 이 미니배치의 손실 함수 값을 줄이는 것이 목표\n",
        "#2단계 : 기울기 산출\n",
        "#미니배치의 손실 함수 값을 줄이기 위해 각 가중치 매개변수의 기울기를 구함, 기울기는 손실 함수의 값을 가장 작게 하는 방향을 제시\n",
        "#3단계 : 매개변수 갱신\n",
        "#가중치 매개변수를 기울기 방향으로 아주 조금 갱신\n",
        "#4단계 : 1~3단계 반복 "
      ],
      "execution_count": null,
      "outputs": []
    },
    {
      "cell_type": "code",
      "metadata": {
        "colab": {
          "base_uri": "https://localhost:8080/"
        },
        "id": "NS7AJ73tkKqP",
        "outputId": "778eb0f8-5f86-4f0b-9812-4e7a77b5b894"
      },
      "source": [
        "#2층 신경망 클래스 구현하기(입력층 -> 은닉층 -> 출력층)\n",
        "# 코랩과 구글드라이드를 연동(인증 필요)\n",
        "#Transport endpoint is not connected 에러시 코랩 재연결\n",
        "from google.colab import drive\n",
        "drive.mount('/gdrive', force_remount=True)\n",
        "%cd /gdrive/MyDrive/DeepLearningFromScratch1/"
      ],
      "execution_count": 1,
      "outputs": [
        {
          "output_type": "stream",
          "text": [
            "Mounted at /gdrive\n",
            "/gdrive/MyDrive/DeepLearningFromScratch1\n"
          ],
          "name": "stdout"
        }
      ]
    },
    {
      "cell_type": "code",
      "metadata": {
        "colab": {
          "base_uri": "https://localhost:8080/"
        },
        "id": "29KA8b7pkrgm",
        "outputId": "ae7a74e1-6332-49aa-c62f-6cf8dd4258ca"
      },
      "source": [
        "import numpy as np\n",
        "from common.functions import *\n",
        "from common.gradient import numerical_gradient\n",
        "\n",
        "class TwoLayerNet:\n",
        "  #인스턴스 생성자\n",
        "  def __init__(self, input_size, hidden_size, output_size, weight_init_std=0.01):\n",
        "    #가중치 초기화\n",
        "    self.params = {}\n",
        "    self.params['W1'] = weight_init_std * np.random.randn(input_size, hidden_size)\n",
        "    self.params['b1'] = np.zeros(hidden_size)\n",
        "    self.params['W2'] = weight_init_std * np.random.randn(hidden_size, output_size)\n",
        "    self.params['b2'] = np.zeros(output_size)\n",
        "\n",
        "  #예측 메소드, 테스트 데이터와 행렬 곱연산 후 시그모이드 함수 통과\n",
        "  def predict(self, x):\n",
        "    W1, W2 = self.params['W1'], self.params['W2']\n",
        "    b1, b2 = self.params['b1'], self.params['b2']\n",
        "\n",
        "    a1 = np.dot(x, W1) + b1\n",
        "    z1 = sigmoid(a1)\n",
        "    a2 = np.dot(z1, W2) + b2\n",
        "    y = sigmoid(a2)\n",
        "\n",
        "    return y\n",
        "  \n",
        "  #손실 함수 메소드, 훈련 후 교차 엔트로피 오차를 통과(결과가 작은 값인 쪽이 정답일 가능성이 높음)\n",
        "  def loss(self, x, t):\n",
        "    y = self.predict(x)\n",
        "\n",
        "    return cross_entropy_error(y, t)\n",
        "\n",
        "  #정확도 메소드, 훈련 결과와 테스트 결과값이 일치한 확률을 표시\n",
        "  def accuracy(self, x, t):\n",
        "    y = self.predict(x)\n",
        "    y = np.argmax(y, axis=1)\n",
        "    t = np.argmax(t, axis=1)\n",
        "\n",
        "    accuracy = np.sum(y == t) / float(x.shape[0])\n",
        "    return accuracy\n",
        "\n",
        "  #경사 하강법 메소드, 가중치 매개변수의 기울기를 구함\n",
        "  def numerical_gradient(self, x, t):\n",
        "    loss_W = lambda W: self.loss(x, t)\n",
        "\n",
        "    grads = {}\n",
        "    grads['W1'] = numerical_gradient(loss_W, self.params['W1'])\n",
        "    grads['b1'] = numerical_gradient(loss_W, self.params['b1'])\n",
        "    grads['W2'] = numerical_gradient(loss_W, self.params['W2'])\n",
        "    grads['b2'] = numerical_gradient(loss_W, self.params['b2'])\n",
        "\n",
        "    return grads\n",
        "\n",
        "net = TwoLayerNet(input_size=784, hidden_size=100, output_size=10)\n",
        "print(net.params['W1'].shape)\n",
        "print(net.params['b1'].shape)\n",
        "print(net.params['W2'].shape)\n",
        "print(net.params['b2'].shape)\n",
        "\n",
        "x = np.random.rand(100, 784)\n",
        "t = np.random.rand(100, 10)\n",
        "\n",
        "grads = net.numerical_gradient(x, t)\n",
        "\n",
        "print(grads['W1'].shape)\n",
        "print(grads['b1'].shape)\n",
        "print(grads['W2'].shape)\n",
        "print(grads['b2'].shape)"
      ],
      "execution_count": 11,
      "outputs": [
        {
          "output_type": "stream",
          "text": [
            "(784, 100)\n",
            "(100,)\n",
            "(100, 10)\n",
            "(10,)\n",
            "(784, 100)\n",
            "(100,)\n",
            "(100, 10)\n",
            "(10,)\n"
          ],
          "name": "stdout"
        }
      ]
    },
    {
      "cell_type": "code",
      "metadata": {
        "colab": {
          "base_uri": "https://localhost:8080/",
          "height": 571
        },
        "id": "E9FCcJvmq1bK",
        "outputId": "69bd170a-a066-4f70-a196-02265c95eb8d"
      },
      "source": [
        "#미니배치 학습 구현\n",
        "from dataset.mnist import load_mnist\n",
        "(x_train, t_train),(x_test, t_test) = load_mnist(normalize=True, one_hot_label=True)\n",
        "\n",
        "train_loss_list = []\n",
        "train_acc_list = []\n",
        "test_acc_list = []\n",
        "\n",
        "#1에포크 당 반복 수\n",
        "iters_per_epoch = max(train_size / batch_size, 1)\n",
        "\n",
        "#하이퍼 파라미터\n",
        "iters_num = 10000   #반복 횟수\n",
        "train_size = x_train.shape[0]   #60000개\n",
        "batch_size = 100    #미니배치 크기\n",
        "learning_rate = 0.1\n",
        "\n",
        "network = TwoLayerNet(input_size=784, hidden_size=50, output_size=10)\n",
        "\n",
        "for i in range(iters_num):\n",
        "  #미니배치 획득\n",
        "  batch_mask = np.random.choice(train_size, batch_size)\n",
        "  x_batch = x_train[batch_mask]\n",
        "  t_batch = t_train[batch_mask]\n",
        "\n",
        "  #기울기 계산 - 윗 줄은 시간이 너무 오래걸려서 실행불가\n",
        "  #grad = network.numerical_gradient(x_batch, t_batch)\n",
        "  #grad = network.gradient(x_batch, t_batch)    #성능 개선용\n",
        "  \n",
        "  #매개변수갱신\n",
        "  for key in ('W1', 'b1', 'W2', 'b2'):\n",
        "    network.params[key] -= learning_rate * grad[key]\n",
        "\n",
        "  #학습경과 기록\n",
        "  loss = network.loss(x_batch, t_batch)\n",
        "  train_loss_list.append(loss)\n",
        "\n",
        "  #1에포크 당 정확도 계산\n",
        "  if i % iters_per_epoch == 0:\n",
        "    train_acc = network.accuracy(x_train, t_train)\n",
        "    test_acc = network.accuracy(x_test, t_test)\n",
        "    train_acc_list.append(train_acc)\n",
        "    test_acc_list.append(test_acc)\n",
        "    print(\"train acc, test acc | \" + str(train_acc) + \", \" + str(test_acc))\n",
        "\n",
        "import matplotlib.pyplot as plt\n",
        "\n",
        "print_x = np.arange(0, iters_num, 1)\n",
        "print_y = train_loss_list\n",
        "plt.plot(print_x, print_y)\n",
        "plt.show()"
      ],
      "execution_count": 20,
      "outputs": [
        {
          "output_type": "stream",
          "text": [
            "train acc, test acc | 0.10218333333333333, 0.101\n",
            "train acc, test acc | 0.09035, 0.0892\n",
            "train acc, test acc | 0.09035, 0.0892\n",
            "train acc, test acc | 0.09035, 0.0892\n",
            "train acc, test acc | 0.09035, 0.0892\n",
            "train acc, test acc | 0.09035, 0.0892\n",
            "train acc, test acc | 0.09545, 0.0946\n",
            "train acc, test acc | 0.11215, 0.1134\n",
            "train acc, test acc | 0.11236666666666667, 0.1135\n",
            "train acc, test acc | 0.11236666666666667, 0.1135\n",
            "train acc, test acc | 0.11236666666666667, 0.1135\n",
            "train acc, test acc | 0.11236666666666667, 0.1135\n",
            "train acc, test acc | 0.11236666666666667, 0.1135\n",
            "train acc, test acc | 0.11236666666666667, 0.1135\n",
            "train acc, test acc | 0.11236666666666667, 0.1135\n",
            "train acc, test acc | 0.10288333333333333, 0.1023\n",
            "train acc, test acc | 0.09871666666666666, 0.098\n"
          ],
          "name": "stdout"
        },
        {
          "output_type": "display_data",
          "data": {
            "image/png": "[encoded data removed]",
            "text/plain": [
              "<Figure size 432x288 with 1 Axes>"
            ]
          },
          "metadata": {
            "needs_background": "light"
          }
        }
      ]
    },
    {
      "cell_type": "code",
      "metadata": {
        "id": "xTQqgsZ3d4hc"
      },
      "source": [
        ""
      ],
      "execution_count": null,
      "outputs": []
    }
  ]
}